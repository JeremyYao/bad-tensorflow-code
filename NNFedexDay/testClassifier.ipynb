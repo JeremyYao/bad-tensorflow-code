{
 "cells": [
  {
   "cell_type": "code",
   "execution_count": 1,
   "metadata": {},
   "outputs": [],
   "source": [
    "import tensorflow as tf\n",
    "import pandas as pd\n"
   ]
  },
  {
   "cell_type": "code",
   "execution_count": 2,
   "metadata": {},
   "outputs": [],
   "source": [
    "# constants\n",
    "TEST_CSV_FILE_NAME = 'test_data.csv'\n",
    "TRAIN_CSV_FILE_NAME = 'train_data.csv'\n",
    "CSV_COLUMN_HEADERS = ['Value','Result']\n",
    "FEATURE_COLUMN_HEADERS = list(filter(lambda item: item != 'Result', CSV_COLUMN_HEADERS))\n",
    "CATEGORIES = ['odd', 'even']\n"
   ]
  },
  {
   "cell_type": "code",
   "execution_count": 3,
   "metadata": {},
   "outputs": [
    {
     "name": "stdout",
     "output_type": "stream",
     "text": [
      "   Value Result\n",
      "0    -10   even\n",
      "1     25    odd\n",
      "2     43    odd\n",
      "3    -46   even\n",
      "4     71    odd\n"
     ]
    }
   ],
   "source": [
    "# read in the file with pandas and create data frames.\n",
    "train_x_df = pd.read_csv(TRAIN_CSV_FILE_NAME,header=0)\n",
    "test_x_df = pd.read_csv(TEST_CSV_FILE_NAME, header=0)\n",
    "\n",
    "# vocab = train_x_df['Type'].unique()\n",
    "\n",
    "print(test_x_df.head())\n"
   ]
  },
  {
   "cell_type": "code",
   "execution_count": 4,
   "metadata": {},
   "outputs": [
    {
     "name": "stdout",
     "output_type": "stream",
     "text": [
      "0         even\n",
      "1          odd\n",
      "2         even\n",
      "3          odd\n",
      "4          odd\n",
      "          ... \n",
      "810389     odd\n",
      "810390    even\n",
      "810391    even\n",
      "810392    even\n",
      "810393     odd\n",
      "Name: Result, Length: 810394, dtype: object\n"
     ]
    }
   ],
   "source": [
    "# Need separate container for labels\n",
    "train_y_df = train_x_df.pop('Result')\n",
    "test_y_df = test_x_df.pop('Result')\n",
    "\n",
    "print(train_y_df)\n"
   ]
  },
  {
   "cell_type": "code",
   "execution_count": 5,
   "metadata": {},
   "outputs": [
    {
     "name": "stdout",
     "output_type": "stream",
     "text": [
      "[NumericColumn(key='Value', shape=(1,), default_value=None, dtype=tf.float32, normalizer_fn=None)]\n"
     ]
    }
   ],
   "source": [
    "# tf feature columns describing the inputs\n",
    "# tf_feat_columns_array = [tf.feature_column.numeric_column(key='Value'), tf.feature_column.indicator_column(tf.feature_column.categorical_column_with_vocabulary_list(key='Type',vocabulary_list=vocab))]\n",
    "tf_feat_columns_array = [tf.feature_column.numeric_column(key='Value')]\n",
    "print(tf_feat_columns_array)"
   ]
  },
  {
   "cell_type": "code",
   "execution_count": 6,
   "metadata": {},
   "outputs": [
    {
     "name": "stdout",
     "output_type": "stream",
     "text": [
      "INFO:tensorflow:Using default config.\n",
      "WARNING:tensorflow:Using temporary folder as model directory: C:\\Users\\JEREMY~1\\AppData\\Local\\Temp\\tmpfj0yodbt\n",
      "INFO:tensorflow:Using config: {'_model_dir': 'C:\\\\Users\\\\JEREMY~1\\\\AppData\\\\Local\\\\Temp\\\\tmpfj0yodbt', '_tf_random_seed': None, '_save_summary_steps': 100, '_save_checkpoints_steps': None, '_save_checkpoints_secs': 600, '_session_config': allow_soft_placement: true\n",
      "graph_options {\n",
      "  rewrite_options {\n",
      "    meta_optimizer_iterations: ONE\n",
      "  }\n",
      "}\n",
      ", '_keep_checkpoint_max': 5, '_keep_checkpoint_every_n_hours': 10000, '_log_step_count_steps': 100, '_train_distribute': None, '_device_fn': None, '_protocol': None, '_eval_distribute': None, '_experimental_distribute': None, '_experimental_max_worker_delay_secs': None, '_session_creation_timeout_secs': 7200, '_checkpoint_save_graph_def': True, '_service': None, '_cluster_spec': ClusterSpec({}), '_task_type': 'worker', '_task_id': 0, '_global_id_in_cluster': 0, '_master': '', '_evaluation_master': '', '_is_chief': True, '_num_ps_replicas': 0, '_num_worker_replicas': 1}\n"
     ]
    }
   ],
   "source": [
    "classifier = tf.estimator.DNNClassifier(\n",
    "    feature_columns=tf_feat_columns_array, \n",
    "    hidden_units=[30,10], \n",
    "    n_classes=len(CATEGORIES),\n",
    "    label_vocabulary=(CATEGORIES)\n",
    ")"
   ]
  },
  {
   "cell_type": "code",
   "execution_count": 26,
   "metadata": {},
   "outputs": [],
   "source": [
    "# Create input function\n",
    "\n",
    "def test_input_func(features, labels, training:bool = True, batch_size:int = 50, num_epochs = 1):\n",
    "    tf_dataset = tf.data.Dataset.from_tensor_slices((dict(features), labels))\n",
    "\n",
    "    if (training):\n",
    "        tf_dataset.shuffle(100)\n",
    "\n",
    "    return tf_dataset.batch(batch_size).repeat(num_epochs)\n"
   ]
  },
  {
   "cell_type": "code",
   "execution_count": 27,
   "metadata": {},
   "outputs": [
    {
     "name": "stdout",
     "output_type": "stream",
     "text": [
      "INFO:tensorflow:Calling model_fn.\n",
      "INFO:tensorflow:Done calling model_fn.\n",
      "INFO:tensorflow:Create CheckpointSaverHook.\n",
      "INFO:tensorflow:Graph was finalized.\n",
      "INFO:tensorflow:Restoring parameters from C:\\Users\\JEREMY~1\\AppData\\Local\\Temp\\tmpfj0yodbt\\model.ckpt-543\n",
      "INFO:tensorflow:Running local_init_op.\n",
      "INFO:tensorflow:Done running local_init_op.\n",
      "INFO:tensorflow:Calling checkpoint listeners before saving checkpoint 543...\n",
      "INFO:tensorflow:Saving checkpoints for 543 into C:\\Users\\JEREMY~1\\AppData\\Local\\Temp\\tmpfj0yodbt\\model.ckpt.\n",
      "INFO:tensorflow:Calling checkpoint listeners after saving checkpoint 543...\n",
      "INFO:tensorflow:loss = 0.38040864, step = 543\n",
      "INFO:tensorflow:Calling checkpoint listeners before saving checkpoint 553...\n",
      "INFO:tensorflow:Saving checkpoints for 553 into C:\\Users\\JEREMY~1\\AppData\\Local\\Temp\\tmpfj0yodbt\\model.ckpt.\n",
      "INFO:tensorflow:Calling checkpoint listeners after saving checkpoint 553...\n",
      "INFO:tensorflow:Loss for final step: 0.00014640886.\n"
     ]
    },
    {
     "data": {
      "text/plain": [
       "<tensorflow_estimator.python.estimator.canned.dnn.DNNClassifierV2 at 0x1fd859c3d60>"
      ]
     },
     "execution_count": 27,
     "metadata": {},
     "output_type": "execute_result"
    }
   ],
   "source": [
    "classifier.train(lambda: test_input_func(train_x_df, train_y_df, training=True), steps=10)"
   ]
  },
  {
   "cell_type": "code",
   "execution_count": 28,
   "metadata": {},
   "outputs": [
    {
     "name": "stdout",
     "output_type": "stream",
     "text": [
      "INFO:tensorflow:Calling model_fn.\n",
      "INFO:tensorflow:Done calling model_fn.\n",
      "INFO:tensorflow:Starting evaluation at 2023-01-18T16:32:19\n",
      "INFO:tensorflow:Graph was finalized.\n",
      "INFO:tensorflow:Restoring parameters from C:\\Users\\JEREMY~1\\AppData\\Local\\Temp\\tmpfj0yodbt\\model.ckpt-553\n",
      "INFO:tensorflow:Running local_init_op.\n",
      "INFO:tensorflow:Done running local_init_op.\n",
      "INFO:tensorflow:Inference Time : 13.49264s\n",
      "INFO:tensorflow:Finished evaluation at 2023-01-18-16:32:32\n",
      "INFO:tensorflow:Saving dict for global step 553: accuracy = 1.0, accuracy_baseline = 0.5011495, auc = 0.99999994, auc_precision_recall = 1.0, average_loss = 4.8007503e-05, global_step = 553, label/mean = 0.5011495, loss = 4.7983936e-05, precision = 1.0, prediction/mean = 0.50117284, recall = 1.0\n",
      "INFO:tensorflow:Saving 'checkpoint_path' summary for global step 553: C:\\Users\\JEREMY~1\\AppData\\Local\\Temp\\tmpfj0yodbt\\model.ckpt-553\n"
     ]
    }
   ],
   "source": [
    "eval_result = classifier.evaluate(input_fn=lambda: test_input_func(test_x_df, test_y_df, training=False))\n"
   ]
  },
  {
   "cell_type": "code",
   "execution_count": 29,
   "metadata": {},
   "outputs": [
    {
     "name": "stdout",
     "output_type": "stream",
     "text": [
      "{'accuracy': 1.0, 'accuracy_baseline': 0.5011495, 'auc': 0.99999994, 'auc_precision_recall': 1.0, 'average_loss': 4.8007503e-05, 'label/mean': 0.5011495, 'loss': 4.7983936e-05, 'precision': 1.0, 'prediction/mean': 0.50117284, 'recall': 1.0, 'global_step': 553}\n"
     ]
    }
   ],
   "source": [
    "print(eval_result)"
   ]
  },
  {
   "cell_type": "code",
   "execution_count": 30,
   "metadata": {},
   "outputs": [
    {
     "name": "stdout",
     "output_type": "stream",
     "text": [
      "The accuracy of the neural network is 100.0%\n"
     ]
    }
   ],
   "source": [
    "print(f\"The accuracy of the neural network is {eval_result['accuracy'] * 100}%\")"
   ]
  },
  {
   "cell_type": "code",
   "execution_count": 35,
   "metadata": {},
   "outputs": [
    {
     "name": "stdout",
     "output_type": "stream",
     "text": [
      "INFO:tensorflow:Calling model_fn.\n",
      "INFO:tensorflow:Done calling model_fn.\n",
      "INFO:tensorflow:Graph was finalized.\n",
      "INFO:tensorflow:Restoring parameters from C:\\Users\\JEREMY~1\\AppData\\Local\\Temp\\tmpfj0yodbt\\model.ckpt-553\n",
      "INFO:tensorflow:Running local_init_op.\n",
      "INFO:tensorflow:Done running local_init_op.\n",
      "Prediction is \"even\" (100.0%)\n"
     ]
    }
   ],
   "source": [
    "number_predict = -23423\n",
    "\n",
    "def predict_input_fn(features, batch_size=256):\n",
    "    return tf.data.Dataset.from_tensor_slices((dict(features))).batch(batch_size)\n",
    "\n",
    "FEATURE_COLUMN_HEADERS\n",
    "predict = {}\n",
    "predict['Value'] = [number_predict]\n",
    "predict['Type'] = [str(type(number_predict))] # Tensorflow expects multiple predictions\n",
    "\n",
    "predictions = classifier.predict(lambda: predict_input_fn(predict))\n",
    "\n",
    "for pred_dict in predictions:\n",
    "    class_id = pred_dict['class_ids'][0]\n",
    "    probability = pred_dict['probabilities'][class_id]\n",
    "\n",
    "    print('Prediction is \"{}\" ({:.1f}%)'.format(\n",
    "        CATEGORIES[class_id], 100 * probability))"
   ]
  }
 ],
 "metadata": {
  "kernelspec": {
   "display_name": "Python 3",
   "language": "python",
   "name": "python3"
  },
  "language_info": {
   "codemirror_mode": {
    "name": "ipython",
    "version": 3
   },
   "file_extension": ".py",
   "mimetype": "text/x-python",
   "name": "python",
   "nbconvert_exporter": "python",
   "pygments_lexer": "ipython3",
   "version": "3.10.9"
  },
  "orig_nbformat": 4,
  "vscode": {
   "interpreter": {
    "hash": "26de051ba29f2982a8de78e945f0abaf191376122a1563185a90213a26c5da77"
   }
  }
 },
 "nbformat": 4,
 "nbformat_minor": 2
}
